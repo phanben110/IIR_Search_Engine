{
 "cells": [
  {
   "cell_type": "code",
   "execution_count": null,
   "metadata": {},
   "outputs": [],
   "source": [
    "import xml.etree.ElementTree as ET\n",
    "\n",
    "# Load the XML file\n",
    "tree = ET.parse('/Users/benphan/NCKU/Courses/BioMedical_Information_Retrieval/Homework1/data/xml/pubmed_test1.xml')\n",
    "root = tree.getroot()\n",
    "\n",
    "# Iterate through PubmedArticle elements\n",
    "for article in root.findall('.//PubmedArticle'):\n",
    "    # Extract data from each PubmedArticle\n",
    "\n",
    "    # Extract PMID (PubMed ID)\n",
    "    pmid = article.find('.//PMID').text\n",
    "\n",
    "    # Extract Article Title\n",
    "    article_title = article.find('.//ArticleTitle').text\n",
    "\n",
    "    # Extract Journal Information\n",
    "    journal_info = article.find('.//Journal')\n",
    "    journal_title = journal_info.find('.//Title').text\n",
    "    journal_issn = journal_info.find('.//ISSN[@IssnType=\"Electronic\"]').text\n",
    "\n",
    "    # Extract Publication Date\n",
    "    pubdate = journal_info.find('.//PubDate')\n",
    "    pubdate_year = pubdate.find('Year').text\n",
    "    pubdate_month = pubdate.find('Month').text\n",
    "    pubdate_day = pubdate.find('Day').text\n",
    "\n",
    "    # Extract Abstract\n",
    "    abstract = article.find('.//Abstract/AbstractText').text\n",
    "\n",
    "    # Extract Author Information\n",
    "    authors = article.find('.//AuthorList')\n",
    "    author_list = []\n",
    "    for author in authors.findall('.//Author'):\n",
    "        last_name = author.find('LastName').text\n",
    "        first_name = author.find('ForeName').text\n",
    "        author_list.append(f\"{first_name} {last_name}\")\n",
    "\n",
    "    # Extract Keywords\n",
    "    keywords = article.find('.//KeywordList[@Owner=\"NOTNLM\"]')\n",
    "    keyword_list = [keyword.text for keyword in keywords.findall('.//Keyword')]\n",
    "\n",
    "    # Print or process the extracted data as needed\n",
    "    print(f\"PMID: {pmid}\")\n",
    "    print(f\"Article Title: {article_title}\")\n",
    "    print(f\"Journal Title: {journal_title}\")\n",
    "    print(f\"ISSN: {journal_issn}\")\n",
    "    print(f\"Publication Date: {pubdate_year}-{pubdate_month}-{pubdate_day}\")\n",
    "    print(f\"Abstract: {abstract}\")\n",
    "    print(f\"Authors: {', '.join(author_list)}\")\n",
    "    print(f\"Keywords: {', '.join(keyword_list)}\")\n",
    "    print(\"\\n\")\n"
   ]
  },
  {
   "cell_type": "code",
   "execution_count": null,
   "metadata": {},
   "outputs": [],
   "source": []
  },
  {
   "cell_type": "code",
   "execution_count": 12,
   "metadata": {},
   "outputs": [
    {
     "name": "stderr",
     "output_type": "stream",
     "text": [
      "[nltk_data] Downloading package punkt to /Users/benphan/nltk_data...\n",
      "[nltk_data]   Package punkt is already up-to-date!\n",
      "2023-09-19 01:19:17.605 \n",
      "  \u001b[33m\u001b[1mWarning:\u001b[0m to view this Streamlit app on a browser, run it with the following\n",
      "  command:\n",
      "\n",
      "    streamlit run /Users/benphan/opt/anaconda3/envs/ai/lib/python3.7/site-packages/ipykernel_launcher.py [ARGUMENTS]\n"
     ]
    }
   ],
   "source": []
  },
  {
   "cell_type": "code",
   "execution_count": null,
   "metadata": {},
   "outputs": [],
   "source": []
  }
 ],
 "metadata": {
  "kernelspec": {
   "display_name": "ai",
   "language": "python",
   "name": "python3"
  },
  "language_info": {
   "codemirror_mode": {
    "name": "ipython",
    "version": 3
   },
   "file_extension": ".py",
   "mimetype": "text/x-python",
   "name": "python",
   "nbconvert_exporter": "python",
   "pygments_lexer": "ipython3",
   "version": "3.7.13"
  },
  "orig_nbformat": 4
 },
 "nbformat": 4,
 "nbformat_minor": 2
}
